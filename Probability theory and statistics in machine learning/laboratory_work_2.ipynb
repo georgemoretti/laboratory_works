{
 "cells": [
  {
   "cell_type": "markdown",
   "metadata": {},
   "source": [
    "# Задание"
   ]
  },
  {
   "cell_type": "markdown",
   "metadata": {},
   "source": [
    "Лабораторная работа №2: Случайные величины. Нормальный закон распределения. Моменты и критические границы случайной величины\n",
    "1.\tНайти на сайте РосСтат  https://rosstat.gov.ru/statistic   непрерывное распределение случайной величины, которое было бы близко к нормальному.\n",
    "Построить графики распределения.\n",
    "2.\tПосчитать в распределение близком к нормальному  1 л.р. и найденном непрерывном распределении:\n",
    "•\tмат.ожидание (*)\n",
    "•\t2 (дисперсию) (**), 3 (асимметрию), 4 (эксцесс) моменты \n",
    "•\tквантили уровня 0,05 и 0,95; 2,5%-ную точку  для найденной случайной величины. \n",
    "3.\tПостроить сравнительную диаграмму найденного распределения и распределения по нормальному закону с параметрами (*, **)."
   ]
  },
  {
   "cell_type": "code",
   "execution_count": 1,
   "metadata": {},
   "outputs": [],
   "source": [
    "import pandas as pd\n",
    "import matplotlib.pyplot as plt\n",
    "import numpy as np\n",
    "from scipy.stats import norm"
   ]
  },
  {
   "cell_type": "markdown",
   "metadata": {},
   "source": [
    "https://www.kaggle.com/datasets/arnabchaki/data-science-salaries-2023"
   ]
  },
  {
   "cell_type": "code",
   "execution_count": 2,
   "metadata": {},
   "outputs": [
    {
     "data": {
      "text/html": [
       "<div>\n",
       "<style scoped>\n",
       "    .dataframe tbody tr th:only-of-type {\n",
       "        vertical-align: middle;\n",
       "    }\n",
       "\n",
       "    .dataframe tbody tr th {\n",
       "        vertical-align: top;\n",
       "    }\n",
       "\n",
       "    .dataframe thead th {\n",
       "        text-align: right;\n",
       "    }\n",
       "</style>\n",
       "<table border=\"1\" class=\"dataframe\">\n",
       "  <thead>\n",
       "    <tr style=\"text-align: right;\">\n",
       "      <th></th>\n",
       "      <th>work_year</th>\n",
       "      <th>experience_level</th>\n",
       "      <th>employment_type</th>\n",
       "      <th>job_title</th>\n",
       "      <th>salary</th>\n",
       "      <th>salary_currency</th>\n",
       "      <th>salary_in_usd</th>\n",
       "      <th>employee_residence</th>\n",
       "      <th>remote_ratio</th>\n",
       "      <th>company_location</th>\n",
       "      <th>company_size</th>\n",
       "    </tr>\n",
       "  </thead>\n",
       "  <tbody>\n",
       "    <tr>\n",
       "      <th>0</th>\n",
       "      <td>2023</td>\n",
       "      <td>SE</td>\n",
       "      <td>FT</td>\n",
       "      <td>Principal Data Scientist</td>\n",
       "      <td>80000</td>\n",
       "      <td>EUR</td>\n",
       "      <td>85847</td>\n",
       "      <td>ES</td>\n",
       "      <td>100</td>\n",
       "      <td>ES</td>\n",
       "      <td>L</td>\n",
       "    </tr>\n",
       "    <tr>\n",
       "      <th>1</th>\n",
       "      <td>2023</td>\n",
       "      <td>MI</td>\n",
       "      <td>CT</td>\n",
       "      <td>ML Engineer</td>\n",
       "      <td>30000</td>\n",
       "      <td>USD</td>\n",
       "      <td>30000</td>\n",
       "      <td>US</td>\n",
       "      <td>100</td>\n",
       "      <td>US</td>\n",
       "      <td>S</td>\n",
       "    </tr>\n",
       "    <tr>\n",
       "      <th>2</th>\n",
       "      <td>2023</td>\n",
       "      <td>MI</td>\n",
       "      <td>CT</td>\n",
       "      <td>ML Engineer</td>\n",
       "      <td>25500</td>\n",
       "      <td>USD</td>\n",
       "      <td>25500</td>\n",
       "      <td>US</td>\n",
       "      <td>100</td>\n",
       "      <td>US</td>\n",
       "      <td>S</td>\n",
       "    </tr>\n",
       "    <tr>\n",
       "      <th>3</th>\n",
       "      <td>2023</td>\n",
       "      <td>SE</td>\n",
       "      <td>FT</td>\n",
       "      <td>Data Scientist</td>\n",
       "      <td>175000</td>\n",
       "      <td>USD</td>\n",
       "      <td>175000</td>\n",
       "      <td>CA</td>\n",
       "      <td>100</td>\n",
       "      <td>CA</td>\n",
       "      <td>M</td>\n",
       "    </tr>\n",
       "    <tr>\n",
       "      <th>4</th>\n",
       "      <td>2023</td>\n",
       "      <td>SE</td>\n",
       "      <td>FT</td>\n",
       "      <td>Data Scientist</td>\n",
       "      <td>120000</td>\n",
       "      <td>USD</td>\n",
       "      <td>120000</td>\n",
       "      <td>CA</td>\n",
       "      <td>100</td>\n",
       "      <td>CA</td>\n",
       "      <td>M</td>\n",
       "    </tr>\n",
       "  </tbody>\n",
       "</table>\n",
       "</div>"
      ],
      "text/plain": [
       "   work_year experience_level employment_type                 job_title  \\\n",
       "0       2023               SE              FT  Principal Data Scientist   \n",
       "1       2023               MI              CT               ML Engineer   \n",
       "2       2023               MI              CT               ML Engineer   \n",
       "3       2023               SE              FT            Data Scientist   \n",
       "4       2023               SE              FT            Data Scientist   \n",
       "\n",
       "   salary salary_currency  salary_in_usd employee_residence  remote_ratio  \\\n",
       "0   80000             EUR          85847                 ES           100   \n",
       "1   30000             USD          30000                 US           100   \n",
       "2   25500             USD          25500                 US           100   \n",
       "3  175000             USD         175000                 CA           100   \n",
       "4  120000             USD         120000                 CA           100   \n",
       "\n",
       "  company_location company_size  \n",
       "0               ES            L  \n",
       "1               US            S  \n",
       "2               US            S  \n",
       "3               CA            M  \n",
       "4               CA            M  "
      ]
     },
     "execution_count": 2,
     "metadata": {},
     "output_type": "execute_result"
    }
   ],
   "source": [
    "df = pd.read_csv('ds_salaries.csv')\n",
    "df.head()"
   ]
  },
  {
   "cell_type": "code",
   "execution_count": 3,
   "metadata": {},
   "outputs": [
    {
     "data": {
      "image/png": "[encoded data removed]",
      "text/plain": [
       "<Figure size 640x480 with 1 Axes>"
      ]
     },
     "metadata": {},
     "output_type": "display_data"
    }
   ],
   "source": [
    "salaries = df['salary_in_usd'].dropna()\n",
    "\n",
    "plt.hist(salaries, bins=20, density=True, alpha=0.6, color=\"b\", label=\"Зарплаты в USD\")\n",
    "\n",
    "mu_2, std_2 = salaries.mean(), salaries.std()\n",
    "\n",
    "xmin, xmax = plt.xlim()\n",
    "x = np.linspace(xmin, xmax, 100)\n",
    "p = norm.pdf(x, mu_2, std_2)\n",
    "\n",
    "plt.plot(x, p, \"k\", linewidth=2, label=\"Нормальное распределение\")\n",
    "\n",
    "plt.title(\"Распределение зарплат в USD\")\n",
    "plt.xlabel(\"Зарплата (USD)\")\n",
    "plt.ylabel(\"Плотность\")\n",
    "plt.legend()\n",
    "plt.show()"
   ]
  },
  {
   "cell_type": "code",
   "execution_count": 4,
   "metadata": {},
   "outputs": [
    {
     "name": "stdout",
     "output_type": "stream",
     "text": [
      "Математическое ожидание: 137570.390 USD\n",
      "Дисперсия: 3976011879.228 USD²\n",
      "Асимметрия: 0.536\n",
      "Эксцесс: 0.834\n",
      "Квантиль 0,05: 40143.700 USD\n",
      "Квантиль 0,95: 249360.000 USD\n",
      "2,5%-ная точка: 24000.000 USD\n"
     ]
    }
   ],
   "source": [
    "mean_value_2 = df['salary_in_usd'].mean()\n",
    "print(f\"Математическое ожидание: {mean_value_2:.3f} USD\")\n",
    "\n",
    "variance_2 = df['salary_in_usd'].var()\n",
    "print(f\"Дисперсия: {variance_2:.3f} USD²\")\n",
    "\n",
    "skewness_2 = df['salary_in_usd'].skew()\n",
    "print(f\"Асимметрия: {skewness_2:.3f}\")\n",
    "\n",
    "kurtosis_2 = df['salary_in_usd'].kurtosis()\n",
    "print(f\"Эксцесс: {kurtosis_2:.3f}\")\n",
    "\n",
    "quantile_05_2 = df['salary_in_usd'].quantile(0.05)\n",
    "quantile_95_2 = df['salary_in_usd'].quantile(0.95)\n",
    "print(f\"Квантиль 0,05: {quantile_05_2:.3f} USD\")\n",
    "print(f\"Квантиль 0,95: {quantile_95_2:.3f} USD\")\n",
    "\n",
    "quantile_025_2 = df['salary_in_usd'].quantile(0.025)\n",
    "print(f\"2,5%-ная точка: {quantile_025_2:.3f} USD\")\n"
   ]
  },
  {
   "cell_type": "markdown",
   "metadata": {},
   "source": [
    "- Математическое ожидание (Среднее значение): Средняя зарплата составляет 137570.390 USD.\n",
    "- Дисперсия: Высокая дисперсия — 3976011879.228 USD² — указывает на значительное разброс значений зарплат, что характерно для данных о зарплатах, где может быть большое различие между низкими и высокими зарплатами.\n",
    "- Асимметрия: Значение 0.536 показывает положительную асимметрию, то есть правый хвост распределения длиннее, что свидетельствует о наличии высоких зарплат (длинный хвост справа).\n",
    "- Эксцесс: Значение 0.834 указывает на умеренную концентрацию данных вокруг среднего, чуть выше нормы для нормального распределения.\n",
    "- Квантили:\n",
    "  - Квантиль 0,05: 40143.700 USD — 5% зарплат ниже этого значения.\n",
    "  - Квантиль 0,95: 249360.000 USD — 95% зарплат ниже этого значения.\n",
    "- 2,5%-ная точка: 24000.000 USD — 2,5% зарплат ниже этого уровня."
   ]
  },
  {
   "cell_type": "markdown",
   "metadata": {},
   "source": [
    "https://www.kaggle.com/datasets/unsdsn/world-happiness?select=2017.csv"
   ]
  },
  {
   "cell_type": "code",
   "execution_count": 5,
   "metadata": {},
   "outputs": [
    {
     "data": {
      "text/html": [
       "<div>\n",
       "<style scoped>\n",
       "    .dataframe tbody tr th:only-of-type {\n",
       "        vertical-align: middle;\n",
       "    }\n",
       "\n",
       "    .dataframe tbody tr th {\n",
       "        vertical-align: top;\n",
       "    }\n",
       "\n",
       "    .dataframe thead th {\n",
       "        text-align: right;\n",
       "    }\n",
       "</style>\n",
       "<table border=\"1\" class=\"dataframe\">\n",
       "  <thead>\n",
       "    <tr style=\"text-align: right;\">\n",
       "      <th></th>\n",
       "      <th>Country</th>\n",
       "      <th>Happiness.Rank</th>\n",
       "      <th>Happiness.Score</th>\n",
       "      <th>Whisker.high</th>\n",
       "      <th>Whisker.low</th>\n",
       "      <th>Economy..GDP.per.Capita.</th>\n",
       "      <th>Family</th>\n",
       "      <th>Health..Life.Expectancy.</th>\n",
       "      <th>Freedom</th>\n",
       "      <th>Generosity</th>\n",
       "      <th>Trust..Government.Corruption.</th>\n",
       "      <th>Dystopia.Residual</th>\n",
       "    </tr>\n",
       "  </thead>\n",
       "  <tbody>\n",
       "    <tr>\n",
       "      <th>0</th>\n",
       "      <td>Norway</td>\n",
       "      <td>1</td>\n",
       "      <td>7.537</td>\n",
       "      <td>7.594445</td>\n",
       "      <td>7.479556</td>\n",
       "      <td>1.616463</td>\n",
       "      <td>1.533524</td>\n",
       "      <td>0.796667</td>\n",
       "      <td>0.635423</td>\n",
       "      <td>0.362012</td>\n",
       "      <td>0.315964</td>\n",
       "      <td>2.277027</td>\n",
       "    </tr>\n",
       "    <tr>\n",
       "      <th>1</th>\n",
       "      <td>Denmark</td>\n",
       "      <td>2</td>\n",
       "      <td>7.522</td>\n",
       "      <td>7.581728</td>\n",
       "      <td>7.462272</td>\n",
       "      <td>1.482383</td>\n",
       "      <td>1.551122</td>\n",
       "      <td>0.792566</td>\n",
       "      <td>0.626007</td>\n",
       "      <td>0.355280</td>\n",
       "      <td>0.400770</td>\n",
       "      <td>2.313707</td>\n",
       "    </tr>\n",
       "    <tr>\n",
       "      <th>2</th>\n",
       "      <td>Iceland</td>\n",
       "      <td>3</td>\n",
       "      <td>7.504</td>\n",
       "      <td>7.622030</td>\n",
       "      <td>7.385970</td>\n",
       "      <td>1.480633</td>\n",
       "      <td>1.610574</td>\n",
       "      <td>0.833552</td>\n",
       "      <td>0.627163</td>\n",
       "      <td>0.475540</td>\n",
       "      <td>0.153527</td>\n",
       "      <td>2.322715</td>\n",
       "    </tr>\n",
       "    <tr>\n",
       "      <th>3</th>\n",
       "      <td>Switzerland</td>\n",
       "      <td>4</td>\n",
       "      <td>7.494</td>\n",
       "      <td>7.561772</td>\n",
       "      <td>7.426227</td>\n",
       "      <td>1.564980</td>\n",
       "      <td>1.516912</td>\n",
       "      <td>0.858131</td>\n",
       "      <td>0.620071</td>\n",
       "      <td>0.290549</td>\n",
       "      <td>0.367007</td>\n",
       "      <td>2.276716</td>\n",
       "    </tr>\n",
       "    <tr>\n",
       "      <th>4</th>\n",
       "      <td>Finland</td>\n",
       "      <td>5</td>\n",
       "      <td>7.469</td>\n",
       "      <td>7.527542</td>\n",
       "      <td>7.410458</td>\n",
       "      <td>1.443572</td>\n",
       "      <td>1.540247</td>\n",
       "      <td>0.809158</td>\n",
       "      <td>0.617951</td>\n",
       "      <td>0.245483</td>\n",
       "      <td>0.382612</td>\n",
       "      <td>2.430182</td>\n",
       "    </tr>\n",
       "  </tbody>\n",
       "</table>\n",
       "</div>"
      ],
      "text/plain": [
       "       Country  Happiness.Rank  Happiness.Score  Whisker.high  Whisker.low  \\\n",
       "0       Norway               1            7.537      7.594445     7.479556   \n",
       "1      Denmark               2            7.522      7.581728     7.462272   \n",
       "2      Iceland               3            7.504      7.622030     7.385970   \n",
       "3  Switzerland               4            7.494      7.561772     7.426227   \n",
       "4      Finland               5            7.469      7.527542     7.410458   \n",
       "\n",
       "   Economy..GDP.per.Capita.    Family  Health..Life.Expectancy.   Freedom  \\\n",
       "0                  1.616463  1.533524                  0.796667  0.635423   \n",
       "1                  1.482383  1.551122                  0.792566  0.626007   \n",
       "2                  1.480633  1.610574                  0.833552  0.627163   \n",
       "3                  1.564980  1.516912                  0.858131  0.620071   \n",
       "4                  1.443572  1.540247                  0.809158  0.617951   \n",
       "\n",
       "   Generosity  Trust..Government.Corruption.  Dystopia.Residual  \n",
       "0    0.362012                       0.315964           2.277027  \n",
       "1    0.355280                       0.400770           2.313707  \n",
       "2    0.475540                       0.153527           2.322715  \n",
       "3    0.290549                       0.367007           2.276716  \n",
       "4    0.245483                       0.382612           2.430182  "
      ]
     },
     "execution_count": 5,
     "metadata": {},
     "output_type": "execute_result"
    }
   ],
   "source": [
    "df_rep = pd.read_csv('2017.csv')\n",
    "df_rep.head()"
   ]
  },
  {
   "cell_type": "code",
   "execution_count": 6,
   "metadata": {},
   "outputs": [
    {
     "data": {
      "image/png": "[encoded data removed]",
      "text/plain": [
       "<Figure size 640x480 with 1 Axes>"
      ]
     },
     "metadata": {},
     "output_type": "display_data"
    }
   ],
   "source": [
    "dystopia_residual = df_rep['Dystopia.Residual'].dropna()\n",
    "\n",
    "plt.hist(dystopia_residual, bins=20, density=True, alpha=0.6, color=\"b\", label=\"Dystopia Residual\")\n",
    "\n",
    "mu_2, std_2 = dystopia_residual.mean(), dystopia_residual.std()\n",
    "\n",
    "xmin, xmax = plt.xlim()\n",
    "x = np.linspace(xmin, xmax, 100)\n",
    "p = norm.pdf(x, mu_2, std_2)\n",
    "\n",
    "plt.plot(x, p, \"k\", linewidth=2, label=\"Нормальное распределение\")\n",
    "\n",
    "plt.title(\"Распределение Dystopia Residual\")\n",
    "plt.xlabel(\"Dystopia Residual\")\n",
    "plt.ylabel(\"Плотность\")\n",
    "plt.legend()\n",
    "plt.show()\n"
   ]
  },
  {
   "cell_type": "code",
   "execution_count": 7,
   "metadata": {},
   "outputs": [
    {
     "name": "stdout",
     "output_type": "stream",
     "text": [
      "Математическое ожидание: 1.850\n",
      "Дисперсия: 0.250\n",
      "Асимметрия: -0.239\n",
      "Эксцесс: 0.690\n",
      "Квантиль 0,05: 1.056\n",
      "Квантиль 0,95: 2.731\n",
      "2,5%-ная точка: 0.611\n"
     ]
    }
   ],
   "source": [
    "mean_value_2 = df_rep['Dystopia.Residual'].mean()\n",
    "print(f\"Математическое ожидание: {mean_value_2:.3f}\")\n",
    "\n",
    "variance_2 = df_rep['Dystopia.Residual'].var()\n",
    "print(f\"Дисперсия: {variance_2:.3f}\")\n",
    "\n",
    "skewness_2 = df_rep['Dystopia.Residual'].skew()\n",
    "print(f\"Асимметрия: {skewness_2:.3f}\")\n",
    "\n",
    "kurtosis_2 = df_rep['Dystopia.Residual'].kurtosis()\n",
    "print(f\"Эксцесс: {kurtosis_2:.3f}\")\n",
    "\n",
    "quantile_05_2 = df_rep['Dystopia.Residual'].quantile(0.05)\n",
    "quantile_95_2 = df_rep['Dystopia.Residual'].quantile(0.95)\n",
    "print(f\"Квантиль 0,05: {quantile_05_2:.3f}\")\n",
    "print(f\"Квантиль 0,95: {quantile_95_2:.3f}\")\n",
    "\n",
    "quantile_025_2 = df_rep['Dystopia.Residual'].quantile(0.025)\n",
    "print(f\"2,5%-ная точка: {quantile_025_2:.3f}\")"
   ]
  },
  {
   "cell_type": "markdown",
   "metadata": {},
   "source": [
    "- Математическое ожидание (Среднее значение): Среднее значение Dystopia.Residual равно 1.850.\n",
    "- Дисперсия: Дисперсия 0.250 указывает на гораздо меньшую вариативность значений по сравнению с зарплатами.\n",
    "- Асимметрия: Значение -0.239 показывает небольшую отрицательную асимметрию, что указывает на наличие небольшого числа низких значений в данных.\n",
    "- Эксцесс: Значение 0.690 показывает умеренную концентрацию данных, чуть ниже нормы для нормального распределения.\n",
    "- Квантили:\n",
    "  - Квантиль 0,05: 1.056 — 5% значений Dystopia.Residual ниже этого значения.\n",
    "  - Квантиль 0,95: 2.731 — 95% значений ниже этого уровня.\n",
    "- 2,5%-ная точка: 0.611 — 2,5% значений ниже этой отметки."
   ]
  }
 ],
 "metadata": {
  "kernelspec": {
   "display_name": "base",
   "language": "python",
   "name": "python3"
  },
  "language_info": {
   "codemirror_mode": {
    "name": "ipython",
    "version": 3
   },
   "file_extension": ".py",
   "mimetype": "text/x-python",
   "name": "python",
   "nbconvert_exporter": "python",
   "pygments_lexer": "ipython3",
   "version": "3.11.5"
  }
 },
 "nbformat": 4,
 "nbformat_minor": 2
}
